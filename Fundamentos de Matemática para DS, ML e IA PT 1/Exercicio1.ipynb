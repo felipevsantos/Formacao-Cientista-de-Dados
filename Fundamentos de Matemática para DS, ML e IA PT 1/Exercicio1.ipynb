{
 "cells": [
  {
   "cell_type": "markdown",
   "metadata": {},
   "source": [
    "<!-- Projeto Desenvolvido na Data Science Academy - www.datascienceacademy.com.br -->\n",
    "# <font color='blue'>Data Science Academy</font>\n",
    "## <font color='blue'>Matemática e Estatística Aplicada Para Data Science, Machine Learning e IA</font>\n",
    "## <font color='blue'>Lista de Exercícios 1</font>\n",
    "## <font color='blue'>Matemática Fundamental com Linguagem Python</font>"
   ]
  },
  {
   "cell_type": "markdown",
   "metadata": {},
   "source": [
    "### Instalando e Carregando Pacotes"
   ]
  },
  {
   "cell_type": "code",
   "execution_count": null,
   "metadata": {},
   "outputs": [],
   "source": [
    "# Para atualizar um pacote, execute o comando abaixo no terminal ou prompt de comando:\n",
    "# pip install -U nome_pacote\n",
    "\n",
    "# Para instalar a versão exata de um pacote, execute o comando abaixo no terminal ou prompt de comando:\n",
    "# !pip install nome_pacote==versão_desejada\n",
    "\n",
    "# Depois de instalar ou atualizar o pacote, reinicie o jupyter notebook.\n",
    "\n",
    "# Instala o pacote watermark. \n",
    "# Esse pacote é usado para gravar as versões de outros pacotes usados neste jupyter notebook.\n",
    "!pip install -q -U watermark"
   ]
  },
  {
   "cell_type": "code",
   "execution_count": null,
   "metadata": {},
   "outputs": [],
   "source": [
    "# Versões dos pacotes usados neste jupyter notebook\n",
    "%reload_ext watermark\n",
    "%watermark -a \"Data Science Academy\" --iversions"
   ]
  },
  {
   "cell_type": "markdown",
   "metadata": {},
   "source": [
    "**Resolva os exercícios abaixo usando Linguagem Python. Faça pesquisa complementar se necessário.**"
   ]
  },
  {
   "cell_type": "markdown",
   "metadata": {},
   "source": [
    "### Exercício 1: Cálculo de Área de um Círculo\n",
    "\n",
    "Escreva um programa que calcula a área de um círculo. O usuário deve fornecer o raio e o programa deve retornar a área."
   ]
  },
  {
   "cell_type": "code",
   "execution_count": 1,
   "metadata": {},
   "outputs": [
    {
     "name": "stdout",
     "output_type": "stream",
     "text": [
      "Digite o valor do raio:45\n",
      "A área do circulo é  6361.73\n"
     ]
    }
   ],
   "source": [
    "import math\n",
    "raio = float(input('Digite o valor do raio:'))\n",
    "area = math.pi * (raio ** 2)\n",
    "\n",
    "print('A área do circulo é ',round(area,2))\n",
    "\n"
   ]
  },
  {
   "cell_type": "markdown",
   "metadata": {},
   "source": [
    "### Exercício 2: Conversão de Temperatura\n",
    "\n",
    "Crie uma função que converte a temperatura de Celsius para Fahrenheit e vice-versa. O usuário deve informar a temperatura e a escala de origem."
   ]
  },
  {
   "cell_type": "code",
   "execution_count": 4,
   "metadata": {},
   "outputs": [
    {
     "name": "stdout",
     "output_type": "stream",
     "text": [
      "Digite a escala origem F/C:f\n",
      "Digite a temperatura: 107.6\n",
      "Temperatura convertida de Fahrenheit para Celsius é 42.00 C\n"
     ]
    }
   ],
   "source": [
    "escala = input('Digite a escala origem F/C:')\n",
    "temp = float(input('Digite a temperatura: '))\n",
    "\n",
    "if escala == 'F' or escala == 'f':\n",
    "    c = 5/9 * (temp - 32)\n",
    "    print('Temperatura convertida de Fahrenheit para Celsius é %.2f C'%c)\n",
    "    \n",
    "if escala == 'C' or escala == 'c':\n",
    "    f = 9*temp/5 + 32\n",
    "    print('Temperatura convertida de Celsius para Fahrenheit é %.2f F'%f)"
   ]
  },
  {
   "cell_type": "markdown",
   "metadata": {},
   "source": [
    "### Exercício 3: Resolver uma Equação Linear\n",
    "\n",
    "Faça um programa que resolve uma equação linear do tipo ax + b = 0. Os valores de a e b são fornecidos pelo usuário."
   ]
  },
  {
   "cell_type": "code",
   "execution_count": 5,
   "metadata": {},
   "outputs": [
    {
     "name": "stdout",
     "output_type": "stream",
     "text": [
      "Digite o valor de A: 54\n",
      "Digite o valor de B: 2\n",
      "X = -0.04\n"
     ]
    }
   ],
   "source": [
    "a = float(input('Digite o valor de A: '))\n",
    "b = float(input('Digite o valor de B: '))\n",
    "\n",
    "x=1\n",
    "x = (0-b)/(a*x)\n",
    "\n",
    "print('X = %.2f'%x)\n",
    "\n"
   ]
  },
  {
   "cell_type": "markdown",
   "metadata": {},
   "source": [
    "### Exercício 4: Cálculo de Média Aritmética\n",
    "\n",
    "Escreva um programa que calcula a média aritmética de uma lista de números fornecida pelo usuário."
   ]
  },
  {
   "cell_type": "code",
   "execution_count": 6,
   "metadata": {},
   "outputs": [
    {
     "name": "stdout",
     "output_type": "stream",
     "text": [
      "Digite a quantidade de números que você deseja inserir: 3\n",
      "Digite um numero: 3\n",
      "Digite um numero: 4\n",
      "Digite um numero: 5\n",
      "Média = 4.00\n"
     ]
    }
   ],
   "source": [
    "n = int(input('Digite a quantidade de números que você deseja inserir: '))\n",
    "lista = []\n",
    "soma = 0\n",
    "for i in range(1,n+1):\n",
    "    l = float(input('Digite um numero: '))\n",
    "    lista.append(l)\n",
    "    soma = soma + l\n",
    "        \n",
    "media = soma / n\n",
    "\n",
    "print('Média = %.2f'%media)\n",
    "    "
   ]
  },
  {
   "cell_type": "markdown",
   "metadata": {},
   "source": [
    "### Exercício 5: Determinar as Raízes de uma Equação Quadrática\n",
    "\n",
    "Crie um programa que encontra as raízes de uma equação quadrática do tipo ax^2 + bx + c = 0. O programa deve lidar com todos os tipos de raízes (reais e complexas)."
   ]
  },
  {
   "cell_type": "code",
   "execution_count": 8,
   "metadata": {},
   "outputs": [
    {
     "name": "stdout",
     "output_type": "stream",
     "text": [
      "Digite o valor de a: 1\n",
      "Digite o valor de b: 2\n",
      "Digite o valor de c: 3\n",
      "Raizes quadráticas =  ((-0.3333333333333333+3.72677996249965j), (-0.3333333333333333-3.72677996249965j))\n"
     ]
    }
   ],
   "source": [
    "# Importa o módulo cmath\n",
    "\n",
    "import cmath\n",
    "\n",
    "def raizes_quadraticas(a,b,c):\n",
    "    # Calcula o delta\n",
    "    \n",
    "    delta = cmath.sqrt(b**2 - 4*a*c)\n",
    "    \n",
    "    x1 = (-b + delta)/(2*a)\n",
    "    \n",
    "    x2 = (-b - delta)/(2*a)\n",
    "    \n",
    "    #retorna as raizes\n",
    "    \n",
    "    return(x1,x2)\n",
    "\n",
    "a = float(input('Digite o valor de a: '))\n",
    "b = float(input('Digite o valor de b: '))\n",
    "a = float(input('Digite o valor de c: '))\n",
    "\n",
    "\n",
    "print('Raizes quadráticas = ',raizes_quadraticas(a,b,c))\n",
    "\n",
    "    \n",
    "    "
   ]
  },
  {
   "cell_type": "markdown",
   "metadata": {},
   "source": [
    "### Exercício 6: Calcular o Fatorial de um Número\n",
    "\n",
    "Escreva uma função que calcula o fatorial de um número inteiro fornecido pelo usuário."
   ]
  },
  {
   "cell_type": "code",
   "execution_count": 11,
   "metadata": {},
   "outputs": [
    {
     "name": "stdout",
     "output_type": "stream",
     "text": [
      "Digite um valor de entrada: 2\n",
      "O fatorial de 2 é: 2\n"
     ]
    }
   ],
   "source": [
    "def fatorial(n):\n",
    "    if n == 0:\n",
    "        return 1\n",
    "    else:\n",
    "        return n * fatorial(n-1)\n",
    "\n",
    "n = int(input('Digite um valor de entrada: '))\n",
    "print(\"O fatorial de\", n, \"é:\", fatorial(n))"
   ]
  },
  {
   "cell_type": "markdown",
   "metadata": {},
   "source": [
    "### Exercício 7: Sequência de Fibonacci\n",
    "\n",
    "Crie um programa que gera a sequência de Fibonacci até um determinado número n fornecido pelo usuário."
   ]
  },
  {
   "cell_type": "code",
   "execution_count": 15,
   "metadata": {},
   "outputs": [
    {
     "name": "stdout",
     "output_type": "stream",
     "text": [
      "Digite a entrada para sequencia de fibonacci: 10\n",
      "da sequência de Fibonacci é: [0, 1, 1, 2, 3, 5, 8, 13, 21, 34]\n"
     ]
    }
   ],
   "source": [
    "def fibonacci(n):\n",
    "    a,b = 0,1\n",
    "    \n",
    "    for _ in range(n):\n",
    "        \n",
    "        yield a\n",
    "        \n",
    "        a,b = b, a+b\n",
    "\n",
    "n = int(input('Digite a entrada para sequencia de fibonacci: '))\n",
    "print(\"da sequência de Fibonacci é:\", list(fibonacci(n)))"
   ]
  },
  {
   "cell_type": "markdown",
   "metadata": {},
   "source": [
    "### Exercício 8: Cálculo de Juros Compostos\n",
    "\n",
    "Faça um programa que calcula o montante final de um investimento com juros compostos. O usuário deve fornecer o capital inicial, a taxa de juros anual, e o número de anos."
   ]
  },
  {
   "cell_type": "code",
   "execution_count": 18,
   "metadata": {},
   "outputs": [
    {
     "name": "stdout",
     "output_type": "stream",
     "text": [
      "Digite o valor do capital aplicado: 10000\n",
      "Digite a taxa de juros anual:0.05\n",
      "Digite o tempo do investimento em anos: 6\n",
      "Valor final do investimento R$ 13400.96\n"
     ]
    }
   ],
   "source": [
    "def juros_compostos(capital, taxa, periodos):\n",
    "    montante = capital * ( 1 + taxa) **  periodos\n",
    "    return montante\n",
    "\n",
    "c = float(input('Digite o valor do capital aplicado: '))\n",
    "t = float(input('Digite a taxa de juros anual:'))\n",
    "p = float(input('Digite o tempo do investimento em anos: '))\n",
    "\n",
    "resultado = juros_compostos(c,t,p)\n",
    "\n",
    "print('Valor final do investimento R$ %.2f'%resultado)"
   ]
  },
  {
   "cell_type": "markdown",
   "metadata": {},
   "source": [
    "### Exercício 9: Conversão de Moedas\n",
    "\n",
    "Escreva um programa que converte uma quantidade de uma moeda (como dólar) para outra (como euro), considerando uma taxa de câmbio fornecida pelo usuário."
   ]
  },
  {
   "cell_type": "code",
   "execution_count": 19,
   "metadata": {},
   "outputs": [
    {
     "name": "stdout",
     "output_type": "stream",
     "text": [
      "Digite o valor da moeda original: 120\n",
      "Digite o valor da taxa de cambio: 5.4\n",
      "Valor da conversão é R$ 648.00\n"
     ]
    }
   ],
   "source": [
    "def conversor_moedas(cot1,cot2):\n",
    "    return cot1 * cot2\n",
    "\n",
    "cot1 = float(input('Digite o valor da moeda original: '))\n",
    "cot2 = float(input('Digite o valor da taxa de cambio: '))\n",
    "\n",
    "resultado = conversor_moedas(cot1,cot2)\n",
    "print('Valor da conversão é R$ %.2f'%resultado)"
   ]
  },
  {
   "cell_type": "markdown",
   "metadata": {},
   "source": [
    "### Exercício 10: Verificar se um Número é Primo\n",
    "\n",
    "Crie uma função que verifica se um número fornecido pelo usuário é primo ou não."
   ]
  },
  {
   "cell_type": "code",
   "execution_count": 2,
   "metadata": {},
   "outputs": [
    {
     "name": "stdout",
     "output_type": "stream",
     "text": [
      "Digite um número: 23\n",
      "23 é um número primo.\n"
     ]
    }
   ],
   "source": [
    "def numeroprimo(n):\n",
    "    cont = 0\n",
    "    i = 1\n",
    "\n",
    "    while i <= n:\n",
    "        if n % i == 0:\n",
    "            cont += 1\n",
    "        i += 1\n",
    "\n",
    "    if cont == 2:\n",
    "        return True\n",
    "    else:\n",
    "        return False\n",
    "\n",
    "n = int(input('Digite um número: '))\n",
    "if numeroprimo(n):\n",
    "    print(f'{n} é um número primo.')\n",
    "else:\n",
    "    print(f'{n} não é um número primo.')"
   ]
  },
  {
   "cell_type": "code",
   "execution_count": null,
   "metadata": {},
   "outputs": [],
   "source": [
    "%reload_ext watermark\n",
    "%watermark -a \"Data Science Academy\""
   ]
  },
  {
   "cell_type": "code",
   "execution_count": null,
   "metadata": {},
   "outputs": [],
   "source": [
    "#%watermark -v -m"
   ]
  },
  {
   "cell_type": "markdown",
   "metadata": {},
   "source": [
    "# Fim"
   ]
  }
 ],
 "metadata": {
  "kernelspec": {
   "display_name": "Python 3 (ipykernel)",
   "language": "python",
   "name": "python3"
  },
  "language_info": {
   "codemirror_mode": {
    "name": "ipython",
    "version": 3
   },
   "file_extension": ".py",
   "mimetype": "text/x-python",
   "name": "python",
   "nbconvert_exporter": "python",
   "pygments_lexer": "ipython3",
   "version": "3.11.5"
  }
 },
 "nbformat": 4,
 "nbformat_minor": 2
}
