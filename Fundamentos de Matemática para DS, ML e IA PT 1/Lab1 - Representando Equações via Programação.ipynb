{
 "cells": [
  {
   "cell_type": "markdown",
   "id": "7864156d",
   "metadata": {},
   "source": [
    "<h1> Lab1 - Representando Equações via  Programação</h1>"
   ]
  },
  {
   "cell_type": "markdown",
   "id": "ed04353f",
   "metadata": {},
   "source": [
    "<h2> Números e Representações</h2>\n",
    "\n",
    "Na matemática, uma variedade de números e suas representações são usados para diferentes propósitos. Aqui está uma lista dos tipos mais comuns de números e suas representações.\n",
    "\n",
    "\n",
    "<b>Números Naturais(N):</b> São todos os números inteiros não-negativos. Incluem 0,1,2,3,4,... Eles são usados para contar e ordenar.\n",
    "\n",
    "<b>Números Inteiros(Z):</b> Incluem todos os números naturais, seus opostos negativos e o zero. Portanto, são..., -3,-2,-1,0,1,2,3,...\n",
    "\n",
    "<b>Números Racionais(Q):</b> São os números que podem ser expressos como a fração de dois inteiros, onde o denominador não é zero. Incluem números como 1/2,-3/4,5,0.75, etc.\n",
    "\n",
    "<b>Números Irracionais:</b> São números que não podem ser expressos como uma fração simples de dois inteiros. Incluem números como (pi) e (raiz quadrada). Esses números tem uma expansão decimal infinita não periódica.\n",
    "\n",
    "<b>Números Reais(R):</b> Incluem todos os números racionais e irracionais. Os números reais podem ser representados em uma linha numérica.\n",
    "\n",
    "<b>Números Complexos(C):</b> Incluem todos os números que podem ser expressos na forma + bi, onde a e b são números reais e i é a unidade imaginária. A unidade imaginária é uma extensão dos números reais que foi criada para solucionar equações que não possuem soluções dentro de  um conjunto dos números reais. A unidade imaginária é representada pela letra i, que é definida como a raiz quadrada de -1.\n",
    "\n",
    "<b>Números Primos:</b> São números maiores que 1 que têm exatamente dois divisores distintos: 1 e eles mesmos. Exemplos incluem 2,3,5,7,1...\n",
    "\n",
    "Cada um desses tipos de números tem sua própria utilidade e aplicação em diferentes áreas da matemática e ciência"
   ]
  },
  {
   "cell_type": "markdown",
   "id": "6d2012ef",
   "metadata": {},
   "source": [
    "<h2>PEMDAS</h2>\n",
    "\n",
    "A regra PEMDAS é um acrônimo usado para ajudar a lembrar a ordem das operações em matemática. Significa:\n",
    "\n",
    "<ul>\n",
    "    <li>Parênteses</li>\n",
    "    <li>Expoentes (ou potências)</li>\n",
    "    <li>Multiplicação e Divisão (da esquerda para a direita)</li>\n",
    "    <li>Adição e Subtração (da esquerda para a direita)</li>\n",
    "</ul>\n",
    "\n",
    "Esta regra é um guia para determinar qual operação matemática deve ser realizada primeiro em uma expressão matemática. Aqui está como ela funciona:\n",
    "\n",
    "<b>Parênteses:</b>Realize primeiro as operações dentro dos parênteses. Isso também se aplica a colchetes[] e chaves{}\n",
    "\n",
    "<b>Expoentes:</b> Em seguida, calcule as potências e as raízes.\n",
    "\n",
    "<b>Multiplicação e Divisão:</b> Estas operações são realizadas da esquerda para a direita. Elas têm a mesma prioridade, o que significa que você deve fazer a que aparecer primeiro.\n",
    "\n",
    "<b>Adição e Subtração:</b>Por último, faça as operações de adição e subtração, também da esquerda para a direita. Assim como na multiplicação e divisão, adição e subtração tem a mesma prioridade.\n",
    "\n",
    "\n",
    "    \n",
    "    \n"
   ]
  },
  {
   "cell_type": "markdown",
   "id": "db9dd17b",
   "metadata": {},
   "source": [
    "<h2>O que São Equações?</h2>\n",
    "\n",
    "Equações são cálculos em que uma ou mais variáveis representam valores desconhecidos. Neste Lab, aprenderemos técnicas fundamentais para resolver equações usando programação."
   ]
  },
  {
   "cell_type": "markdown",
   "id": "500f7152",
   "metadata": {},
   "source": [
    "<h2> Resolvendo Equações com 1 Passo </h2>\n",
    "\n",
    "\n",
    "Considere a seguinte equação:\n",
    "\n",
    "\n",
    "                         x + 12 = -37\n",
    "                         \n",
    "O desafio aqui é encontrar o valor de <b>x</b> e para isso precisamos <i>isolar a variável.</i> Nesse caso, precisamos colocar um <b>x</b> em um lado do sinal '=' e todos os outros valores no outro lado. Para isso utilizamos as regras:\n",
    "\n",
    "1. Usar operações opostas para cancelar os valores que não queremos de um lado. Nesse caso, o lado esquerda da equação inclui uma adição de 12, então vamos cancelar isso subtraindo 12 e o lado esquerdo da equação se torna <b>x + 12 - 12.\n",
    "    \n",
    "2. O que quer que você faça de um lado, deverá fazer também no outro. Nesse caso subtraímos 12 do lado esquerdo, portanto também devemos subtrair 12 do lado direito da equação, que se torna <b> -37 - 12 </b>\n",
    "    \n",
    "    \n",
    "    Nossa equação agora fica assim:\n",
    "                                         x + 12 - 12 = -37 - 12\n",
    "    \n",
    "    Agora podemos calcular os valores em ambos os lados. No lado esquerdo, 12 - 12 é 0, então ficamos com:\n",
    "                                        \n",
    "                                           x = -37-12\n",
    "    \n",
    "    O que produz o resultado <b> -49 </b>. Nossa equação agora está resolvida, como você pode ver aqui:\n",
    "    \n",
    "                                        x = -49"
   ]
  },
  {
   "cell_type": "code",
   "execution_count": 1,
   "id": "4d255229",
   "metadata": {},
   "outputs": [
    {
     "data": {
      "text/plain": [
       "True"
      ]
     },
     "execution_count": 1,
     "metadata": {},
     "output_type": "execute_result"
    }
   ],
   "source": [
    "# Atribuindo valor a x\n",
    "x = -49\n",
    "\n",
    "x + 12 == -37"
   ]
  },
  {
   "cell_type": "markdown",
   "id": "83f211a1",
   "metadata": {},
   "source": [
    "<h2> Resolvendo Equações com 2 Passos </h2>\n",
    "\n",
    "Consideramos a expressão abaixo:\n",
    "\n",
    "                    3x - 2 = 10\n",
    "                    \n",
    "Como antes, precisamos isolar a variável X, mas desta vez faremos em duas etapas.\n",
    "\n",
    "A primeira coisa que faremos é cancelar as <i>constantes</i>. Uma constante é qualquer número que se mantém sozinho, então neste caso, o 2 que estamos subtraindo do lado esquerdo é  uma cosntante. Usaremos uma operação oposta para cancelá-lo no lado esquerdo, portanto, como a operação atual é subtrair 2, adicionaremos 2; e é claro que tudo o que fazmos no lado esquerdo também precisamos fazer no lado direito, então após o primeiro passo, nossa equação fica assim:\n",
    "\n",
    "\n",
    "                        3x-2+2 = 10+2\n",
    "                        \n",
    "Agora os -2 e +2 à esquerda se cancelam, e a direita 10+2 é 12. Então a equação agora é:\n",
    "\n",
    "\n",
    "                         3x=12\n",
    "                         \n",
    "Ok, hora do passo dois - precisamos lidar com os coeficientes - um coeficiente é um número que é aplicado a uma variável. Nesse caso, nossa expressão à esquerda é 3x, o que significa x multiplicado por 3; para que possamos aplicar a operação oposta para cancelá-lo, desde que façamos o mesmo para o outro lado, ficaria assim:\n",
    "\n",
    "                             3X/3 = 12/3\n",
    "                             \n",
    "3x/3 é igual a x, então agora isolamos a variável.\n",
    "\n",
    "                            x = 12/3\n",
    "                            \n",
    "E podemos calcular o resultado como 12/3 que é <b>4</b>"
   ]
  },
  {
   "cell_type": "code",
   "execution_count": 2,
   "id": "d48d41d0",
   "metadata": {},
   "outputs": [],
   "source": [
    "#Atribuindo valor a x\n",
    "x = 4"
   ]
  },
  {
   "cell_type": "code",
   "execution_count": 4,
   "id": "cd2eb05c",
   "metadata": {},
   "outputs": [
    {
     "data": {
      "text/plain": [
       "True"
      ]
     },
     "execution_count": 4,
     "metadata": {},
     "output_type": "execute_result"
    }
   ],
   "source": [
    "# Comparando\n",
    "3*x - 2 == 10"
   ]
  },
  {
   "cell_type": "markdown",
   "id": "3967e77b",
   "metadata": {},
   "source": [
    "<h2> Resolvendo Equações Combinando Termos</h2>\n",
    "\n",
    "Termos semelhantes são elementos de uma expressão que se relacionam com a mesma variável ou constante ( com a mesma <i>ordem</i> ou <i>exponencial</i>, que discutiremos mais adiante). Por exemplo, considere a seguinte expressão:\n",
    "\n",
    "                        5x + 1 - 2x = 22\n",
    "                        \n",
    "Nesta equação, o lado esquerdo inclui os termos <b>5x</b> e <b>-2x</b>, ambos representando a variável <b>x</b> multiplicada por um coeficiente. Observe que incluímos o sinal (+ ou -) na frente do valor.\n",
    "\n",
    "Podemos reescrever a equação para combinar estes termos semelhantes:\n",
    "\n",
    "\n",
    "                  5x-2x + 1 = 22\n",
    "                  \n",
    "Podemos então simplesmente realizar as operações necessárias nos termos semelhantes para consolidá-los em um único termo:\n",
    "\n",
    "\n",
    "                3x + 1 = 22\n",
    "                \n",
    "                \n",
    "Agora podemos resolver isso como qualquer outra equação de duas etapas. Primeiro vamos remover as constantes do lado esquerdo - neste caso, há uma expressão constante que adiciona 1, então vamos usar a operação oposta para removê-la e fazer o mesmo do outro lado\n",
    "\n",
    "\n",
    "                                3x + 1 -1 = 22 -1\n",
    "                                \n",
    "                                \n",
    "isso nos dá:\n",
    "\n",
    "\n",
    "                               3x = 21\n",
    "                               \n",
    "                               x = 21/3\n",
    "                               \n",
    "                               x = 7\n",
    " No final o resultado fica <b>x = 7 </b>"
   ]
  },
  {
   "cell_type": "code",
   "execution_count": 1,
   "id": "14942914",
   "metadata": {},
   "outputs": [
    {
     "data": {
      "text/plain": [
       "True"
      ]
     },
     "execution_count": 1,
     "metadata": {},
     "output_type": "execute_result"
    }
   ],
   "source": [
    "#Atribuindo valor a x\n",
    "x = 7\n",
    "\n",
    "5 * x + 1 -2 * x == 22"
   ]
  },
  {
   "cell_type": "markdown",
   "id": "5f1999b0",
   "metadata": {},
   "source": [
    " <h2> Trabalhando com Frações - Exemplo 1 </h2>\n",
    " \n",
    " Algumas das etapas para resolver as equações acima envolveram trabalhar com frações - que em si são apenas operações de divisão. Vamos dar uma olhada em um exemplo em que nossa variável é definida como uma fração:\n",
    " \n",
    " \n",
    "             x/3 + 1 = 16\n",
    "             \n",
    "             \n",
    "Seguimos a mesma abordagem de antes, primeiro removendo as constantes do lado esquerdo, então subtraímos 1 de ambos os lados.\n",
    "\n",
    "              x/3 + 1 - 1 = 16 - 1\n",
    "              \n",
    "              x/3 = 15\n",
    "            \n",
    "Agora precisamos lidar com a fração à esquerda para que fiquemos com apenas <b>x</b>\n",
    "\n",
    "A fração é x/3 que é outra maneira de dizer x dividido por 3, então podemos aplicar a operação oposta para ambos os lados. Nesse caso, precisamos multiplicar ambos os lados pelo denominador sob nossa variável que é 3.\n",
    "\n",
    "Para facilitar o trabalho com um termo que contém frações, podemos expressar números inteiros como frações com denominador 1; então a esquerda podemos expressar 3 como 3/1 e multiplicarmos x/3.\n",
    "\n",
    "Observe que a notação para multiplicação é um símbolo (.) em vez do operador de multiplicação x padrão ( que causaria confusão com a variável <b>x</b>) ou o símbolo asterisco usado pela maioria das linguagens de programação.\n",
    "\n",
    "                        3/1 . x/3 = 15 . 3\n",
    "                        x = 45\n",
    "                        \n",
    "Resultado final é <b>45</b>"
   ]
  },
  {
   "cell_type": "code",
   "execution_count": 2,
   "id": "909f77c6",
   "metadata": {},
   "outputs": [],
   "source": [
    "#Atribuindo valor a x \n",
    "x = 45\n"
   ]
  },
  {
   "cell_type": "code",
   "execution_count": 3,
   "id": "5b700d64",
   "metadata": {},
   "outputs": [
    {
     "data": {
      "text/plain": [
       "True"
      ]
     },
     "execution_count": 3,
     "metadata": {},
     "output_type": "execute_result"
    }
   ],
   "source": [
    "x/3 + 1 == 16"
   ]
  },
  {
   "cell_type": "markdown",
   "id": "48ead114",
   "metadata": {},
   "source": [
    " <h2> Trabalhando com Frações - Exemplo 2</h2>\n",
    "\n",
    "Vejamos outro exemplo, em que a variável é um número inteiro, mas seu coeficiente é uma fração:\n",
    "\n",
    "            2/5x + 1 = 11\n",
    "            \n",
    "Como de costume, começaremos removendo as constantes da expressão variável, então nesse caso, precisamos subtrair 1 de ambos os lados:\n",
    "\n",
    "                2/5x + 1 - 1 = 11 - 1\n",
    "                \n",
    "                2/5x = 10\n",
    "                \n",
    "Agora precisamos cancelar a fração. A expressão equivale a dois quintos vezes x, então a operação oposta é dividir por 2/5; mas há uma maneira mais simples de fazer isso com uma fração é multiplicá-la por sua recíproca, que é apenas o inverso da fração, neste caso 5/2. Claro, precisamos fazer isso para os dois lados:\n",
    "\n",
    "\n",
    "               5/2 . 2/5x = 10/1 . 5/2\n",
    "               \n",
    "Isso nos dá o seguinte resultado:\n",
    "\n",
    "                                x = 50/2\n",
    "                                \n",
    "Que podemos simplificar para <b> x = 25</b>"
   ]
  },
  {
   "cell_type": "code",
   "execution_count": 1,
   "id": "c6f4ce5a",
   "metadata": {},
   "outputs": [],
   "source": [
    "#Atribuindo o valor a x\n",
    "x = 25"
   ]
  },
  {
   "cell_type": "code",
   "execution_count": 4,
   "id": "18f9f6cb",
   "metadata": {},
   "outputs": [
    {
     "data": {
      "text/plain": [
       "True"
      ]
     },
     "execution_count": 4,
     "metadata": {},
     "output_type": "execute_result"
    }
   ],
   "source": [
    "2*x/5 + 1==11"
   ]
  },
  {
   "cell_type": "markdown",
   "id": "c0fadb9e",
   "metadata": {},
   "source": [
    "<h2> Equações com Variáveis em Ambos os Lados</h2>\n",
    "\n",
    "Até agora, todas as equações tiveram um termo variável em apenas um lado. No entanto, os termos variáveis podem existir em ambos os lados.\n",
    "\n",
    "Considere esta equação:\n",
    "\n",
    "                3x + 2 = 5x - 1\n",
    "                \n",
    "Desta vez, temo termos que incluem <b>x</b> em ambos os lados. Vamos usar exatamente a mesma abordagem para resolver esse tipo de equação que fizemos para os exemplos anteriores. Primeiro, vamos lidar com as constantes adicionando 1 a ambos os lados. Isso elimina o -1 à direita.\n",
    "\n",
    "                 3x +2 + 1 = 5x -1 + 1\n",
    "                 \n",
    "                 3x + 3 = 5x\n",
    "                 \n",
    "Agora podemos eliminar a expressão variavel de um lado subtraindo 3x de ambos os lados. Isso elimina o 3x à esquerda\n",
    "\n",
    "                                  3x - 3x + 3 = 5x - 3x\n",
    "                                  3 = 2x\n",
    "                                  \n",
    "Em seguida, podemos lidar com o coeficiente dividindo ambos os lados por 2:\n",
    "\n",
    "                                3/2 = 2x/2\n",
    "                                \n",
    "                                3/2 = x\n",
    "                                \n",
    "Agora isolamos o x. Parece um pouco estranho porque geralmente temos a variável do lado esquerdo, então se isso te deixa mais confortável você pode simplesmente inverter a equação:\n",
    "\n",
    "                                 x = 3/2\n",
    "                                 \n",
    "Resultado final é <b>1.5</b>\n",
    "\n"
   ]
  },
  {
   "cell_type": "code",
   "execution_count": 5,
   "id": "0e827cf8",
   "metadata": {},
   "outputs": [],
   "source": [
    "x = 1.5"
   ]
  },
  {
   "cell_type": "code",
   "execution_count": 7,
   "id": "c946cce4",
   "metadata": {},
   "outputs": [
    {
     "data": {
      "text/plain": [
       "True"
      ]
     },
     "execution_count": 7,
     "metadata": {},
     "output_type": "execute_result"
    }
   ],
   "source": [
    " 3*x + 2 == 5*x - 1"
   ]
  },
  {
   "cell_type": "markdown",
   "id": "af770ccc",
   "metadata": {},
   "source": [
    "<h2> Usando a Propriedade Distributiva</h2>\n",
    "\n",
    "A propriedade distributiva é uma lei matemática que nos permite distribuir a mesma operação para termos entre parênteses. Por exemplo, considere a seguinte equação:\n",
    "\n",
    "<b>4(x + 2) + 3(x-2) = 16\n",
    "    \n",
    "    \n",
    "A equação inclui duas operações entre parênteses: <b> 4(x+2) e 3(x-2). Cada uma dessas operações consiste em uma constante pela qual o conteúdo entre parênteses deve ser multiplicado: por exemplo, 4 vezes(x + 2).\n",
    "    \n",
    "A propriedade distributiva significa que poodemos obter o mesmo resultado multiplicando cda termo entre parênteses e somando os resultados, então a primeira operação entre parênteses, podemos multiplicar opr 4 x e somar 4 vezes +2. Para a segunda operação entre parênteses, podemos calcular 3x x + 3 vezes -2. Observe que as constantes entre parênteses incluem o sinal (+ ou -) que as precede:\n",
    "    \n",
    "    4x + 8 + 3x - 6 = 16\n",
    "    \n",
    "Agora podemos agrupar nossos termos semelhantes:\n",
    "    \n",
    "    7x + 2 = 16\n",
    "    \n",
    "Em seguida movemos a constante para o outro lado, subtraindo:\n",
    "    \n",
    "    7x = 16 - 2 \n",
    "        \n",
    "   7x = 14\n",
    "    \n",
    "Por fim, temos o resultado:\n",
    "    \n",
    "    x = 14/7\n",
    "        \n",
    "    x = 2\n",
    "        \n",
    "     "
   ]
  },
  {
   "cell_type": "code",
   "execution_count": 8,
   "id": "92f09101",
   "metadata": {},
   "outputs": [],
   "source": [
    "x = 2"
   ]
  },
  {
   "cell_type": "code",
   "execution_count": 9,
   "id": "2320c18a",
   "metadata": {},
   "outputs": [
    {
     "data": {
      "text/plain": [
       "True"
      ]
     },
     "execution_count": 9,
     "metadata": {},
     "output_type": "execute_result"
    }
   ],
   "source": [
    "4 * (x + 2) + 3 * (x-2) == 16"
   ]
  },
  {
   "cell_type": "code",
   "execution_count": null,
   "id": "8177bf69",
   "metadata": {},
   "outputs": [],
   "source": []
  }
 ],
 "metadata": {
  "kernelspec": {
   "display_name": "Python 3 (ipykernel)",
   "language": "python",
   "name": "python3"
  },
  "language_info": {
   "codemirror_mode": {
    "name": "ipython",
    "version": 3
   },
   "file_extension": ".py",
   "mimetype": "text/x-python",
   "name": "python",
   "nbconvert_exporter": "python",
   "pygments_lexer": "ipython3",
   "version": "3.11.5"
  }
 },
 "nbformat": 4,
 "nbformat_minor": 5
}
